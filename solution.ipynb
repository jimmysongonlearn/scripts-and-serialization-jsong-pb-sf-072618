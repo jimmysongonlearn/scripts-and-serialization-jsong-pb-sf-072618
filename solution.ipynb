{
 "cells": [
  {
   "cell_type": "markdown",
   "metadata": {},
   "source": [
    "# SCRIPT\n",
    "\n",
    "The ability to lock and unlock coins is at the heart of what it means to transfer Bitcoin.\n",
    "\n",
    "### Mechanics of SCRIPT\n",
    "\n",
    "If you are confused about what a \"smart contract\" is, don't worry. \"Smart contract\" is a fancy way of saying \"programmable\" and the \"smart contract language\" is simply a programming language. SCRIPT is the smart contract langauge, or the programming language used to express how bitcoins are to be transferred.\n",
    "\n",
    "Think of a personal check. In a sense, a personal check is a type of contract. A personal check is an agreement to transfer some amount of money from one person to another. Bitcoin has the digital equivalent of a contract in SCRIPT.\n",
    "\n",
    "SCRIPT is a limited programming language in the sense that it doesn't have certain features. Specifically, it does not have any mechanism for loops and is not Turing complete.\n",
    "\n",
    "What you are required to do as part of a transaction is to assign Bitcoins to a *locking* script. The locking script is what's specified in ScriptPubKey (see chapter 5). Think of this as the locked box where some money is deposited which only the person with the key to the box can open. The money inside, of course, can only be accessed by someone with the key.\n",
    "\n",
    "The actual unlocking of bitcoin is done in the ScriptSig field and proves ownership of the locked box in order to spend the funds."
   ]
  },
  {
   "cell_type": "markdown",
   "metadata": {},
   "source": [
    "### Try it\n",
    "\n",
    "Determine a ScriptSig that will satisfy this scriptPubKey:\n",
    "\n",
    "```\n",
    "767695935687\n",
    "```\n",
    "\n",
    "#### Hint: use the Script.parse method"
   ]
  },
  {
   "cell_type": "code",
   "execution_count": null,
   "metadata": {},
   "outputs": [],
   "source": [
    "from script import Script\n",
    "\n",
    "hex_script = '767695935687'\n",
    "\n",
    "# bytes.fromhex the script\n",
    "# parse the script\n",
    "s = Script.parse(bytes.fromhex(hex_script))\n",
    "print(s)"
   ]
  }
 ],
 "metadata": {
  "kernelspec": {
   "display_name": "Python 3",
   "language": "python",
   "name": "python3"
  },
  "language_info": {
   "codemirror_mode": {
    "name": "ipython",
    "version": 3
   },
   "file_extension": ".py",
   "mimetype": "text/x-python",
   "name": "python",
   "nbconvert_exporter": "python",
   "pygments_lexer": "ipython3",
   "version": "3.6.5"
  }
 },
 "nbformat": 4,
 "nbformat_minor": 2
}
